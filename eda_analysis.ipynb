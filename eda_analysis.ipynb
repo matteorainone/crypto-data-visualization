{
 "cells": [
  {
   "cell_type": "markdown",
   "metadata": {},
   "source": [
    "# Analisi EDA per i dataset a disposizione\n",
    "\n",
    "Si realizza un'analisi esplorativa dei dati al fine di capire quali sono i processi di trasformazione da applicare ai dataset a disposizione al fine di realizzare una corretta pipeline E2E su AWS."
   ]
  },
  {
   "cell_type": "code",
   "execution_count": 1,
   "metadata": {},
   "outputs": [],
   "source": [
    "import pandas as pd\n",
    "import numpy as np"
   ]
  },
  {
   "cell_type": "code",
   "execution_count": 2,
   "metadata": {},
   "outputs": [],
   "source": [
    "btc_prices = r\"C:\\Users\\marco\\Desktop\\Corso_DE\\Corso_AWS\\progetto_finale\\dataset\\BTC_EUR_Historical_Data.csv\"\n",
    "btc_trend = r\"C:\\Users\\marco\\Desktop\\Corso_DE\\Corso_AWS\\progetto_finale\\dataset\\google_trend_bitcoin.csv\"\n",
    "xmr_prices = r\"C:\\Users\\marco\\Desktop\\Corso_DE\\Corso_AWS\\progetto_finale\\dataset\\XMR_EUR Kraken Historical Data.csv\"\n",
    "xmr_trend = r\"C:\\Users\\marco\\Desktop\\Corso_DE\\Corso_AWS\\progetto_finale\\dataset\\google_trend_monero.csv\""
   ]
  },
  {
   "cell_type": "markdown",
   "metadata": {},
   "source": [
    "## Prezzi bitcoin"
   ]
  },
  {
   "cell_type": "code",
   "execution_count": 3,
   "metadata": {},
   "outputs": [
    {
     "data": {
      "text/html": [
       "<div>\n",
       "<style scoped>\n",
       "    .dataframe tbody tr th:only-of-type {\n",
       "        vertical-align: middle;\n",
       "    }\n",
       "\n",
       "    .dataframe tbody tr th {\n",
       "        vertical-align: top;\n",
       "    }\n",
       "\n",
       "    .dataframe thead th {\n",
       "        text-align: right;\n",
       "    }\n",
       "</style>\n",
       "<table border=\"1\" class=\"dataframe\">\n",
       "  <thead>\n",
       "    <tr style=\"text-align: right;\">\n",
       "      <th></th>\n",
       "      <th>Date</th>\n",
       "      <th>Price</th>\n",
       "      <th>Open</th>\n",
       "      <th>High</th>\n",
       "      <th>Low</th>\n",
       "      <th>Vol.</th>\n",
       "      <th>Change %</th>\n",
       "    </tr>\n",
       "  </thead>\n",
       "  <tbody>\n",
       "    <tr>\n",
       "      <th>0</th>\n",
       "      <td>2024-03-12</td>\n",
       "      <td>65619.5</td>\n",
       "      <td>65860.0</td>\n",
       "      <td>66135.3</td>\n",
       "      <td>65200.0</td>\n",
       "      <td>0.19K</td>\n",
       "      <td>-0.37%</td>\n",
       "    </tr>\n",
       "    <tr>\n",
       "      <th>1</th>\n",
       "      <td>2024-03-11</td>\n",
       "      <td>65859.9</td>\n",
       "      <td>63074.2</td>\n",
       "      <td>66600.0</td>\n",
       "      <td>61517.2</td>\n",
       "      <td>1.88K</td>\n",
       "      <td>4.42%</td>\n",
       "    </tr>\n",
       "    <tr>\n",
       "      <th>2</th>\n",
       "      <td>2024-03-10</td>\n",
       "      <td>63074.3</td>\n",
       "      <td>62613.1</td>\n",
       "      <td>63930.6</td>\n",
       "      <td>62400.0</td>\n",
       "      <td>0.72K</td>\n",
       "      <td>0.68%</td>\n",
       "    </tr>\n",
       "    <tr>\n",
       "      <th>3</th>\n",
       "      <td>2024-03-09</td>\n",
       "      <td>62649.9</td>\n",
       "      <td>62425.2</td>\n",
       "      <td>62781.1</td>\n",
       "      <td>62124.5</td>\n",
       "      <td>0.37K</td>\n",
       "      <td>0.38%</td>\n",
       "    </tr>\n",
       "    <tr>\n",
       "      <th>4</th>\n",
       "      <td>2024-03-08</td>\n",
       "      <td>62413.8</td>\n",
       "      <td>61130.1</td>\n",
       "      <td>63999.0</td>\n",
       "      <td>60483.8</td>\n",
       "      <td>1.61K</td>\n",
       "      <td>2.10%</td>\n",
       "    </tr>\n",
       "  </tbody>\n",
       "</table>\n",
       "</div>"
      ],
      "text/plain": [
       "        Date    Price     Open     High      Low   Vol. Change %\n",
       "0 2024-03-12  65619.5  65860.0  66135.3  65200.0  0.19K   -0.37%\n",
       "1 2024-03-11  65859.9  63074.2  66600.0  61517.2  1.88K    4.42%\n",
       "2 2024-03-10  63074.3  62613.1  63930.6  62400.0  0.72K    0.68%\n",
       "3 2024-03-09  62649.9  62425.2  62781.1  62124.5  0.37K    0.38%\n",
       "4 2024-03-08  62413.8  61130.1  63999.0  60483.8  1.61K    2.10%"
      ]
     },
     "execution_count": 3,
     "metadata": {},
     "output_type": "execute_result"
    }
   ],
   "source": [
    "btc_df = pd.read_csv(btc_prices, parse_dates=['Date'], thousands=\",\")\n",
    "btc_df.head()"
   ]
  },
  {
   "cell_type": "code",
   "execution_count": 4,
   "metadata": {},
   "outputs": [
    {
     "data": {
      "text/plain": [
       "Date        1887\n",
       "Price       1887\n",
       "Open        1887\n",
       "High        1887\n",
       "Low         1887\n",
       "Vol.        1887\n",
       "Change %    1887\n",
       "dtype: int64"
      ]
     },
     "execution_count": 4,
     "metadata": {},
     "output_type": "execute_result"
    }
   ],
   "source": [
    "btc_df.count()"
   ]
  },
  {
   "cell_type": "code",
   "execution_count": 5,
   "metadata": {},
   "outputs": [
    {
     "name": "stdout",
     "output_type": "stream",
     "text": [
      "<class 'pandas.core.frame.DataFrame'>\n",
      "RangeIndex: 1887 entries, 0 to 1886\n",
      "Data columns (total 7 columns):\n",
      " #   Column    Non-Null Count  Dtype         \n",
      "---  ------    --------------  -----         \n",
      " 0   Date      1887 non-null   datetime64[ns]\n",
      " 1   Price     1887 non-null   float64       \n",
      " 2   Open      1887 non-null   float64       \n",
      " 3   High      1887 non-null   float64       \n",
      " 4   Low       1887 non-null   float64       \n",
      " 5   Vol.      1887 non-null   object        \n",
      " 6   Change %  1887 non-null   object        \n",
      "dtypes: datetime64[ns](1), float64(4), object(2)\n",
      "memory usage: 103.3+ KB\n"
     ]
    }
   ],
   "source": [
    "btc_df.info()"
   ]
  },
  {
   "cell_type": "markdown",
   "metadata": {},
   "source": [
    "No null or NaN values."
   ]
  },
  {
   "cell_type": "code",
   "execution_count": 6,
   "metadata": {},
   "outputs": [
    {
     "data": {
      "text/plain": [
       "Date        18\n",
       "Price       18\n",
       "Open        18\n",
       "High        18\n",
       "Low         18\n",
       "Vol.        18\n",
       "Change %    18\n",
       "dtype: int64"
      ]
     },
     "execution_count": 6,
     "metadata": {},
     "output_type": "execute_result"
    }
   ],
   "source": [
    "btc_df[btc_df['Price'] == -1].count()"
   ]
  },
  {
   "cell_type": "markdown",
   "metadata": {},
   "source": [
    "Ci sono alcuni valori della colonna Price che non danno un'informazione effettiva per le analisi. Si può pensare di sostituirle con la media mobile delle ultime 10 osservazioni, trattandosi di valori di prezzi su più anni. In questo modo non si introducono elevate fluttuazioni del valore per il giorno specifico."
   ]
  },
  {
   "cell_type": "markdown",
   "metadata": {},
   "source": [
    "Anche se non necessario ai fini del progetto attuale, si realizza un preprocessing anche delle altre colonne presenti nel dataset, al fine di sfruttare la pipeline in costruzione, per ritrovarsi dei dati pretrattati da salvare sul Data Catalog di Glue, per rendere tali dati disponibili per altri servizi AWS e da cui poter estrarre dei possibili insights."
   ]
  },
  {
   "cell_type": "code",
   "execution_count": 7,
   "metadata": {},
   "outputs": [
    {
     "data": {
      "text/html": [
       "<div>\n",
       "<style scoped>\n",
       "    .dataframe tbody tr th:only-of-type {\n",
       "        vertical-align: middle;\n",
       "    }\n",
       "\n",
       "    .dataframe tbody tr th {\n",
       "        vertical-align: top;\n",
       "    }\n",
       "\n",
       "    .dataframe thead th {\n",
       "        text-align: right;\n",
       "    }\n",
       "</style>\n",
       "<table border=\"1\" class=\"dataframe\">\n",
       "  <thead>\n",
       "    <tr style=\"text-align: right;\">\n",
       "      <th></th>\n",
       "      <th>Date</th>\n",
       "      <th>Price</th>\n",
       "      <th>Open</th>\n",
       "      <th>High</th>\n",
       "      <th>Low</th>\n",
       "      <th>Vol.[K]</th>\n",
       "      <th>Change %</th>\n",
       "    </tr>\n",
       "  </thead>\n",
       "  <tbody>\n",
       "    <tr>\n",
       "      <th>0</th>\n",
       "      <td>2024-03-12</td>\n",
       "      <td>65619.5</td>\n",
       "      <td>65860.0</td>\n",
       "      <td>66135.3</td>\n",
       "      <td>65200.0</td>\n",
       "      <td>0.19K</td>\n",
       "      <td>-0.37%</td>\n",
       "    </tr>\n",
       "    <tr>\n",
       "      <th>1</th>\n",
       "      <td>2024-03-11</td>\n",
       "      <td>65859.9</td>\n",
       "      <td>63074.2</td>\n",
       "      <td>66600.0</td>\n",
       "      <td>61517.2</td>\n",
       "      <td>1.88K</td>\n",
       "      <td>4.42%</td>\n",
       "    </tr>\n",
       "    <tr>\n",
       "      <th>2</th>\n",
       "      <td>2024-03-10</td>\n",
       "      <td>63074.3</td>\n",
       "      <td>62613.1</td>\n",
       "      <td>63930.6</td>\n",
       "      <td>62400.0</td>\n",
       "      <td>0.72K</td>\n",
       "      <td>0.68%</td>\n",
       "    </tr>\n",
       "    <tr>\n",
       "      <th>3</th>\n",
       "      <td>2024-03-09</td>\n",
       "      <td>62649.9</td>\n",
       "      <td>62425.2</td>\n",
       "      <td>62781.1</td>\n",
       "      <td>62124.5</td>\n",
       "      <td>0.37K</td>\n",
       "      <td>0.38%</td>\n",
       "    </tr>\n",
       "    <tr>\n",
       "      <th>4</th>\n",
       "      <td>2024-03-08</td>\n",
       "      <td>62413.8</td>\n",
       "      <td>61130.1</td>\n",
       "      <td>63999.0</td>\n",
       "      <td>60483.8</td>\n",
       "      <td>1.61K</td>\n",
       "      <td>2.10%</td>\n",
       "    </tr>\n",
       "  </tbody>\n",
       "</table>\n",
       "</div>"
      ],
      "text/plain": [
       "        Date    Price     Open     High      Low Vol.[K] Change %\n",
       "0 2024-03-12  65619.5  65860.0  66135.3  65200.0   0.19K   -0.37%\n",
       "1 2024-03-11  65859.9  63074.2  66600.0  61517.2   1.88K    4.42%\n",
       "2 2024-03-10  63074.3  62613.1  63930.6  62400.0   0.72K    0.68%\n",
       "3 2024-03-09  62649.9  62425.2  62781.1  62124.5   0.37K    0.38%\n",
       "4 2024-03-08  62413.8  61130.1  63999.0  60483.8   1.61K    2.10%"
      ]
     },
     "execution_count": 7,
     "metadata": {},
     "output_type": "execute_result"
    }
   ],
   "source": [
    "btc_df.rename(columns={\"Vol.\":\"Vol.[K]\"}, inplace=True)\n",
    "btc_df.head()"
   ]
  },
  {
   "cell_type": "code",
   "execution_count": 8,
   "metadata": {},
   "outputs": [
    {
     "data": {
      "text/html": [
       "<div>\n",
       "<style scoped>\n",
       "    .dataframe tbody tr th:only-of-type {\n",
       "        vertical-align: middle;\n",
       "    }\n",
       "\n",
       "    .dataframe tbody tr th {\n",
       "        vertical-align: top;\n",
       "    }\n",
       "\n",
       "    .dataframe thead th {\n",
       "        text-align: right;\n",
       "    }\n",
       "</style>\n",
       "<table border=\"1\" class=\"dataframe\">\n",
       "  <thead>\n",
       "    <tr style=\"text-align: right;\">\n",
       "      <th></th>\n",
       "      <th>Date</th>\n",
       "      <th>Price</th>\n",
       "      <th>Open</th>\n",
       "      <th>High</th>\n",
       "      <th>Low</th>\n",
       "      <th>Vol.[K]</th>\n",
       "      <th>Change %</th>\n",
       "    </tr>\n",
       "  </thead>\n",
       "  <tbody>\n",
       "    <tr>\n",
       "      <th>0</th>\n",
       "      <td>2024-03-12</td>\n",
       "      <td>65619.5</td>\n",
       "      <td>65860.0</td>\n",
       "      <td>66135.3</td>\n",
       "      <td>65200.0</td>\n",
       "      <td>0.19</td>\n",
       "      <td>-0.37%</td>\n",
       "    </tr>\n",
       "    <tr>\n",
       "      <th>1</th>\n",
       "      <td>2024-03-11</td>\n",
       "      <td>65859.9</td>\n",
       "      <td>63074.2</td>\n",
       "      <td>66600.0</td>\n",
       "      <td>61517.2</td>\n",
       "      <td>1.88</td>\n",
       "      <td>4.42%</td>\n",
       "    </tr>\n",
       "    <tr>\n",
       "      <th>2</th>\n",
       "      <td>2024-03-10</td>\n",
       "      <td>63074.3</td>\n",
       "      <td>62613.1</td>\n",
       "      <td>63930.6</td>\n",
       "      <td>62400.0</td>\n",
       "      <td>0.72</td>\n",
       "      <td>0.68%</td>\n",
       "    </tr>\n",
       "    <tr>\n",
       "      <th>3</th>\n",
       "      <td>2024-03-09</td>\n",
       "      <td>62649.9</td>\n",
       "      <td>62425.2</td>\n",
       "      <td>62781.1</td>\n",
       "      <td>62124.5</td>\n",
       "      <td>0.37</td>\n",
       "      <td>0.38%</td>\n",
       "    </tr>\n",
       "    <tr>\n",
       "      <th>4</th>\n",
       "      <td>2024-03-08</td>\n",
       "      <td>62413.8</td>\n",
       "      <td>61130.1</td>\n",
       "      <td>63999.0</td>\n",
       "      <td>60483.8</td>\n",
       "      <td>1.61</td>\n",
       "      <td>2.10%</td>\n",
       "    </tr>\n",
       "  </tbody>\n",
       "</table>\n",
       "</div>"
      ],
      "text/plain": [
       "        Date    Price     Open     High      Low Vol.[K] Change %\n",
       "0 2024-03-12  65619.5  65860.0  66135.3  65200.0    0.19   -0.37%\n",
       "1 2024-03-11  65859.9  63074.2  66600.0  61517.2    1.88    4.42%\n",
       "2 2024-03-10  63074.3  62613.1  63930.6  62400.0    0.72    0.68%\n",
       "3 2024-03-09  62649.9  62425.2  62781.1  62124.5    0.37    0.38%\n",
       "4 2024-03-08  62413.8  61130.1  63999.0  60483.8    1.61    2.10%"
      ]
     },
     "execution_count": 8,
     "metadata": {},
     "output_type": "execute_result"
    }
   ],
   "source": [
    "btc_df['Vol.[K]'] = btc_df['Vol.[K]'].map(lambda x:x.replace('K',''))\n",
    "btc_df.head()"
   ]
  },
  {
   "cell_type": "code",
   "execution_count": 9,
   "metadata": {},
   "outputs": [],
   "source": [
    "btc_df['Vol.[K]'] = btc_df['Vol.[K]'].map(lambda x: float(x))\n"
   ]
  },
  {
   "cell_type": "code",
   "execution_count": 10,
   "metadata": {},
   "outputs": [
    {
     "data": {
      "text/html": [
       "<div>\n",
       "<style scoped>\n",
       "    .dataframe tbody tr th:only-of-type {\n",
       "        vertical-align: middle;\n",
       "    }\n",
       "\n",
       "    .dataframe tbody tr th {\n",
       "        vertical-align: top;\n",
       "    }\n",
       "\n",
       "    .dataframe thead th {\n",
       "        text-align: right;\n",
       "    }\n",
       "</style>\n",
       "<table border=\"1\" class=\"dataframe\">\n",
       "  <thead>\n",
       "    <tr style=\"text-align: right;\">\n",
       "      <th></th>\n",
       "      <th>Date</th>\n",
       "      <th>Price</th>\n",
       "      <th>Open</th>\n",
       "      <th>High</th>\n",
       "      <th>Low</th>\n",
       "      <th>Vol.[K]</th>\n",
       "      <th>Change %</th>\n",
       "    </tr>\n",
       "  </thead>\n",
       "  <tbody>\n",
       "    <tr>\n",
       "      <th>0</th>\n",
       "      <td>2024-03-12</td>\n",
       "      <td>65619.5</td>\n",
       "      <td>65860.0</td>\n",
       "      <td>66135.3</td>\n",
       "      <td>65200.0</td>\n",
       "      <td>0.19</td>\n",
       "      <td>-0.37</td>\n",
       "    </tr>\n",
       "    <tr>\n",
       "      <th>1</th>\n",
       "      <td>2024-03-11</td>\n",
       "      <td>65859.9</td>\n",
       "      <td>63074.2</td>\n",
       "      <td>66600.0</td>\n",
       "      <td>61517.2</td>\n",
       "      <td>1.88</td>\n",
       "      <td>4.42</td>\n",
       "    </tr>\n",
       "    <tr>\n",
       "      <th>2</th>\n",
       "      <td>2024-03-10</td>\n",
       "      <td>63074.3</td>\n",
       "      <td>62613.1</td>\n",
       "      <td>63930.6</td>\n",
       "      <td>62400.0</td>\n",
       "      <td>0.72</td>\n",
       "      <td>0.68</td>\n",
       "    </tr>\n",
       "    <tr>\n",
       "      <th>3</th>\n",
       "      <td>2024-03-09</td>\n",
       "      <td>62649.9</td>\n",
       "      <td>62425.2</td>\n",
       "      <td>62781.1</td>\n",
       "      <td>62124.5</td>\n",
       "      <td>0.37</td>\n",
       "      <td>0.38</td>\n",
       "    </tr>\n",
       "    <tr>\n",
       "      <th>4</th>\n",
       "      <td>2024-03-08</td>\n",
       "      <td>62413.8</td>\n",
       "      <td>61130.1</td>\n",
       "      <td>63999.0</td>\n",
       "      <td>60483.8</td>\n",
       "      <td>1.61</td>\n",
       "      <td>2.10</td>\n",
       "    </tr>\n",
       "  </tbody>\n",
       "</table>\n",
       "</div>"
      ],
      "text/plain": [
       "        Date    Price     Open     High      Low  Vol.[K]  Change %\n",
       "0 2024-03-12  65619.5  65860.0  66135.3  65200.0     0.19     -0.37\n",
       "1 2024-03-11  65859.9  63074.2  66600.0  61517.2     1.88      4.42\n",
       "2 2024-03-10  63074.3  62613.1  63930.6  62400.0     0.72      0.68\n",
       "3 2024-03-09  62649.9  62425.2  62781.1  62124.5     0.37      0.38\n",
       "4 2024-03-08  62413.8  61130.1  63999.0  60483.8     1.61      2.10"
      ]
     },
     "execution_count": 10,
     "metadata": {},
     "output_type": "execute_result"
    }
   ],
   "source": [
    "btc_df['Change %'] = btc_df['Change %'].map(lambda x:x.replace('%',''))\n",
    "btc_df['Change %'] = btc_df['Change %'].map(lambda x: float(x))\n",
    "btc_df.head()"
   ]
  },
  {
   "cell_type": "code",
   "execution_count": 11,
   "metadata": {},
   "outputs": [
    {
     "data": {
      "text/html": [
       "<div>\n",
       "<style scoped>\n",
       "    .dataframe tbody tr th:only-of-type {\n",
       "        vertical-align: middle;\n",
       "    }\n",
       "\n",
       "    .dataframe tbody tr th {\n",
       "        vertical-align: top;\n",
       "    }\n",
       "\n",
       "    .dataframe thead th {\n",
       "        text-align: right;\n",
       "    }\n",
       "</style>\n",
       "<table border=\"1\" class=\"dataframe\">\n",
       "  <thead>\n",
       "    <tr style=\"text-align: right;\">\n",
       "      <th></th>\n",
       "      <th>Date</th>\n",
       "      <th>Price</th>\n",
       "      <th>Open</th>\n",
       "      <th>High</th>\n",
       "      <th>Low</th>\n",
       "      <th>Vol.[K]</th>\n",
       "      <th>Change %</th>\n",
       "    </tr>\n",
       "  </thead>\n",
       "  <tbody>\n",
       "    <tr>\n",
       "      <th>1882</th>\n",
       "      <td>2019-01-16</td>\n",
       "      <td>3164.7</td>\n",
       "      <td>3149.2</td>\n",
       "      <td>3228.9</td>\n",
       "      <td>3140.2</td>\n",
       "      <td>5.52</td>\n",
       "      <td>0.49</td>\n",
       "    </tr>\n",
       "    <tr>\n",
       "      <th>1883</th>\n",
       "      <td>2019-01-15</td>\n",
       "      <td>3149.2</td>\n",
       "      <td>3197.6</td>\n",
       "      <td>3214.3</td>\n",
       "      <td>3119.8</td>\n",
       "      <td>5.36</td>\n",
       "      <td>-1.51</td>\n",
       "    </tr>\n",
       "    <tr>\n",
       "      <th>1884</th>\n",
       "      <td>2019-01-14</td>\n",
       "      <td>3197.6</td>\n",
       "      <td>3075.0</td>\n",
       "      <td>3238.8</td>\n",
       "      <td>3068.1</td>\n",
       "      <td>7.29</td>\n",
       "      <td>4.02</td>\n",
       "    </tr>\n",
       "    <tr>\n",
       "      <th>1885</th>\n",
       "      <td>2019-01-13</td>\n",
       "      <td>3074.0</td>\n",
       "      <td>3168.1</td>\n",
       "      <td>3188.0</td>\n",
       "      <td>3052.2</td>\n",
       "      <td>3.52</td>\n",
       "      <td>-2.97</td>\n",
       "    </tr>\n",
       "    <tr>\n",
       "      <th>1886</th>\n",
       "      <td>2019-01-12</td>\n",
       "      <td>3168.1</td>\n",
       "      <td>3175.0</td>\n",
       "      <td>3193.2</td>\n",
       "      <td>3130.0</td>\n",
       "      <td>2.36</td>\n",
       "      <td>-0.21</td>\n",
       "    </tr>\n",
       "  </tbody>\n",
       "</table>\n",
       "</div>"
      ],
      "text/plain": [
       "           Date   Price    Open    High     Low  Vol.[K]  Change %\n",
       "1882 2019-01-16  3164.7  3149.2  3228.9  3140.2     5.52      0.49\n",
       "1883 2019-01-15  3149.2  3197.6  3214.3  3119.8     5.36     -1.51\n",
       "1884 2019-01-14  3197.6  3075.0  3238.8  3068.1     7.29      4.02\n",
       "1885 2019-01-13  3074.0  3168.1  3188.0  3052.2     3.52     -2.97\n",
       "1886 2019-01-12  3168.1  3175.0  3193.2  3130.0     2.36     -0.21"
      ]
     },
     "execution_count": 11,
     "metadata": {},
     "output_type": "execute_result"
    }
   ],
   "source": [
    "btc_df.tail()"
   ]
  },
  {
   "cell_type": "code",
   "execution_count": 12,
   "metadata": {},
   "outputs": [
    {
     "data": {
      "text/plain": [
       "Date        datetime64[ns]\n",
       "Price              float64\n",
       "Open               float64\n",
       "High               float64\n",
       "Low                float64\n",
       "Vol.[K]            float64\n",
       "Change %           float64\n",
       "dtype: object"
      ]
     },
     "execution_count": 12,
     "metadata": {},
     "output_type": "execute_result"
    }
   ],
   "source": [
    "btc_df.dtypes"
   ]
  },
  {
   "cell_type": "markdown",
   "metadata": {},
   "source": [
    "## Bitcoin trend"
   ]
  },
  {
   "cell_type": "code",
   "execution_count": 13,
   "metadata": {},
   "outputs": [
    {
     "data": {
      "text/html": [
       "<div>\n",
       "<style scoped>\n",
       "    .dataframe tbody tr th:only-of-type {\n",
       "        vertical-align: middle;\n",
       "    }\n",
       "\n",
       "    .dataframe tbody tr th {\n",
       "        vertical-align: top;\n",
       "    }\n",
       "\n",
       "    .dataframe thead th {\n",
       "        text-align: right;\n",
       "    }\n",
       "</style>\n",
       "<table border=\"1\" class=\"dataframe\">\n",
       "  <thead>\n",
       "    <tr style=\"text-align: right;\">\n",
       "      <th></th>\n",
       "      <th>Settimana</th>\n",
       "      <th>interesse bitcoin</th>\n",
       "    </tr>\n",
       "  </thead>\n",
       "  <tbody>\n",
       "    <tr>\n",
       "      <th>0</th>\n",
       "      <td>2019-03-17</td>\n",
       "      <td>9</td>\n",
       "    </tr>\n",
       "    <tr>\n",
       "      <th>1</th>\n",
       "      <td>2019-03-24</td>\n",
       "      <td>9</td>\n",
       "    </tr>\n",
       "    <tr>\n",
       "      <th>2</th>\n",
       "      <td>2019-03-31</td>\n",
       "      <td>15</td>\n",
       "    </tr>\n",
       "    <tr>\n",
       "      <th>3</th>\n",
       "      <td>2019-04-07</td>\n",
       "      <td>13</td>\n",
       "    </tr>\n",
       "    <tr>\n",
       "      <th>4</th>\n",
       "      <td>2019-04-14</td>\n",
       "      <td>11</td>\n",
       "    </tr>\n",
       "  </tbody>\n",
       "</table>\n",
       "</div>"
      ],
      "text/plain": [
       "   Settimana  interesse bitcoin\n",
       "0 2019-03-17                  9\n",
       "1 2019-03-24                  9\n",
       "2 2019-03-31                 15\n",
       "3 2019-04-07                 13\n",
       "4 2019-04-14                 11"
      ]
     },
     "execution_count": 13,
     "metadata": {},
     "output_type": "execute_result"
    }
   ],
   "source": [
    "btc_trend_df = pd.read_csv(btc_trend, parse_dates=['Settimana'])\n",
    "btc_trend_df.head()"
   ]
  },
  {
   "cell_type": "code",
   "execution_count": 14,
   "metadata": {},
   "outputs": [
    {
     "data": {
      "text/html": [
       "<div>\n",
       "<style scoped>\n",
       "    .dataframe tbody tr th:only-of-type {\n",
       "        vertical-align: middle;\n",
       "    }\n",
       "\n",
       "    .dataframe tbody tr th {\n",
       "        vertical-align: top;\n",
       "    }\n",
       "\n",
       "    .dataframe thead th {\n",
       "        text-align: right;\n",
       "    }\n",
       "</style>\n",
       "<table border=\"1\" class=\"dataframe\">\n",
       "  <thead>\n",
       "    <tr style=\"text-align: right;\">\n",
       "      <th></th>\n",
       "      <th>Settimana</th>\n",
       "      <th>interesse bitcoin</th>\n",
       "    </tr>\n",
       "  </thead>\n",
       "  <tbody>\n",
       "    <tr>\n",
       "      <th>255</th>\n",
       "      <td>2024-02-04</td>\n",
       "      <td>20</td>\n",
       "    </tr>\n",
       "    <tr>\n",
       "      <th>256</th>\n",
       "      <td>2024-02-11</td>\n",
       "      <td>29</td>\n",
       "    </tr>\n",
       "    <tr>\n",
       "      <th>257</th>\n",
       "      <td>2024-02-18</td>\n",
       "      <td>22</td>\n",
       "    </tr>\n",
       "    <tr>\n",
       "      <th>258</th>\n",
       "      <td>2024-02-25</td>\n",
       "      <td>43</td>\n",
       "    </tr>\n",
       "    <tr>\n",
       "      <th>259</th>\n",
       "      <td>2024-03-03</td>\n",
       "      <td>52</td>\n",
       "    </tr>\n",
       "  </tbody>\n",
       "</table>\n",
       "</div>"
      ],
      "text/plain": [
       "     Settimana  interesse bitcoin\n",
       "255 2024-02-04                 20\n",
       "256 2024-02-11                 29\n",
       "257 2024-02-18                 22\n",
       "258 2024-02-25                 43\n",
       "259 2024-03-03                 52"
      ]
     },
     "execution_count": 14,
     "metadata": {},
     "output_type": "execute_result"
    }
   ],
   "source": [
    "btc_trend_df.tail()"
   ]
  },
  {
   "cell_type": "code",
   "execution_count": 15,
   "metadata": {},
   "outputs": [
    {
     "name": "stdout",
     "output_type": "stream",
     "text": [
      "<class 'pandas.core.frame.DataFrame'>\n",
      "RangeIndex: 260 entries, 0 to 259\n",
      "Data columns (total 2 columns):\n",
      " #   Column             Non-Null Count  Dtype         \n",
      "---  ------             --------------  -----         \n",
      " 0   Settimana          260 non-null    datetime64[ns]\n",
      " 1   interesse bitcoin  260 non-null    int64         \n",
      "dtypes: datetime64[ns](1), int64(1)\n",
      "memory usage: 4.2 KB\n"
     ]
    }
   ],
   "source": [
    "btc_trend_df.info()"
   ]
  },
  {
   "cell_type": "code",
   "execution_count": 16,
   "metadata": {},
   "outputs": [
    {
     "data": {
      "text/plain": [
       "Settimana            260\n",
       "interesse bitcoin    260\n",
       "dtype: int64"
      ]
     },
     "execution_count": 16,
     "metadata": {},
     "output_type": "execute_result"
    }
   ],
   "source": [
    "btc_trend_df.count()"
   ]
  },
  {
   "cell_type": "markdown",
   "metadata": {},
   "source": [
    "This dataset need just to be normalised as it follows."
   ]
  },
  {
   "cell_type": "code",
   "execution_count": 17,
   "metadata": {},
   "outputs": [
    {
     "name": "stdout",
     "output_type": "stream",
     "text": [
      "<class 'pandas.core.frame.DataFrame'>\n",
      "RangeIndex: 260 entries, 0 to 259\n",
      "Data columns (total 2 columns):\n",
      " #   Column              Non-Null Count  Dtype         \n",
      "---  ------              --------------  -----         \n",
      " 0   Week                260 non-null    datetime64[ns]\n",
      " 1   Google_trend_index  260 non-null    int64         \n",
      "dtypes: datetime64[ns](1), int64(1)\n",
      "memory usage: 4.2 KB\n"
     ]
    }
   ],
   "source": [
    "btc_trend_df.rename(columns={\"Settimana\":\"Week\", \"interesse bitcoin\":\"Google_trend_index\"}, inplace=True)\n",
    "btc_trend_df.info()"
   ]
  },
  {
   "cell_type": "markdown",
   "metadata": {},
   "source": [
    "## Prezzi Monero"
   ]
  },
  {
   "cell_type": "code",
   "execution_count": 18,
   "metadata": {},
   "outputs": [
    {
     "data": {
      "text/html": [
       "<div>\n",
       "<style scoped>\n",
       "    .dataframe tbody tr th:only-of-type {\n",
       "        vertical-align: middle;\n",
       "    }\n",
       "\n",
       "    .dataframe tbody tr th {\n",
       "        vertical-align: top;\n",
       "    }\n",
       "\n",
       "    .dataframe thead th {\n",
       "        text-align: right;\n",
       "    }\n",
       "</style>\n",
       "<table border=\"1\" class=\"dataframe\">\n",
       "  <thead>\n",
       "    <tr style=\"text-align: right;\">\n",
       "      <th></th>\n",
       "      <th>Date</th>\n",
       "      <th>Price</th>\n",
       "      <th>Open</th>\n",
       "      <th>High</th>\n",
       "      <th>Low</th>\n",
       "      <th>Vol.</th>\n",
       "      <th>Change %</th>\n",
       "    </tr>\n",
       "  </thead>\n",
       "  <tbody>\n",
       "    <tr>\n",
       "      <th>0</th>\n",
       "      <td>2024-03-12</td>\n",
       "      <td>133.29</td>\n",
       "      <td>132.67</td>\n",
       "      <td>134.41</td>\n",
       "      <td>130.11</td>\n",
       "      <td>1.28K</td>\n",
       "      <td>0.45%</td>\n",
       "    </tr>\n",
       "    <tr>\n",
       "      <th>1</th>\n",
       "      <td>2024-03-11</td>\n",
       "      <td>132.69</td>\n",
       "      <td>133.76</td>\n",
       "      <td>134.38</td>\n",
       "      <td>130.06</td>\n",
       "      <td>5.36K</td>\n",
       "      <td>-0.80%</td>\n",
       "    </tr>\n",
       "    <tr>\n",
       "      <th>2</th>\n",
       "      <td>2024-03-10</td>\n",
       "      <td>133.76</td>\n",
       "      <td>131.40</td>\n",
       "      <td>135.65</td>\n",
       "      <td>130.26</td>\n",
       "      <td>2.22K</td>\n",
       "      <td>1.80%</td>\n",
       "    </tr>\n",
       "    <tr>\n",
       "      <th>3</th>\n",
       "      <td>2024-03-09</td>\n",
       "      <td>131.40</td>\n",
       "      <td>134.70</td>\n",
       "      <td>136.09</td>\n",
       "      <td>131.33</td>\n",
       "      <td>2.57K</td>\n",
       "      <td>-2.45%</td>\n",
       "    </tr>\n",
       "    <tr>\n",
       "      <th>4</th>\n",
       "      <td>2024-03-08</td>\n",
       "      <td>134.70</td>\n",
       "      <td>131.74</td>\n",
       "      <td>138.47</td>\n",
       "      <td>130.46</td>\n",
       "      <td>4.54K</td>\n",
       "      <td>2.25%</td>\n",
       "    </tr>\n",
       "  </tbody>\n",
       "</table>\n",
       "</div>"
      ],
      "text/plain": [
       "        Date   Price    Open    High     Low   Vol. Change %\n",
       "0 2024-03-12  133.29  132.67  134.41  130.11  1.28K    0.45%\n",
       "1 2024-03-11  132.69  133.76  134.38  130.06  5.36K   -0.80%\n",
       "2 2024-03-10  133.76  131.40  135.65  130.26  2.22K    1.80%\n",
       "3 2024-03-09  131.40  134.70  136.09  131.33  2.57K   -2.45%\n",
       "4 2024-03-08  134.70  131.74  138.47  130.46  4.54K    2.25%"
      ]
     },
     "execution_count": 18,
     "metadata": {},
     "output_type": "execute_result"
    }
   ],
   "source": [
    "xmr_df = pd.read_csv(xmr_prices, parse_dates=['Date'], thousands=\",\")\n",
    "xmr_df.head()"
   ]
  },
  {
   "cell_type": "code",
   "execution_count": 19,
   "metadata": {},
   "outputs": [
    {
     "name": "stdout",
     "output_type": "stream",
     "text": [
      "<class 'pandas.core.frame.DataFrame'>\n",
      "RangeIndex: 1898 entries, 0 to 1897\n",
      "Data columns (total 7 columns):\n",
      " #   Column    Non-Null Count  Dtype         \n",
      "---  ------    --------------  -----         \n",
      " 0   Date      1898 non-null   datetime64[ns]\n",
      " 1   Price     1898 non-null   float64       \n",
      " 2   Open      1898 non-null   float64       \n",
      " 3   High      1898 non-null   float64       \n",
      " 4   Low       1898 non-null   float64       \n",
      " 5   Vol.      1895 non-null   object        \n",
      " 6   Change %  1898 non-null   object        \n",
      "dtypes: datetime64[ns](1), float64(4), object(2)\n",
      "memory usage: 103.9+ KB\n"
     ]
    }
   ],
   "source": [
    "xmr_df.info()"
   ]
  },
  {
   "cell_type": "markdown",
   "metadata": {},
   "source": [
    "Vol. column has some NaN values that needs to be managed. It is possibile to impute the missing values with the rolling mean of the last 10 observations."
   ]
  },
  {
   "cell_type": "code",
   "execution_count": 20,
   "metadata": {},
   "outputs": [],
   "source": [
    "xmr_df['Vol.'] = xmr_df['Vol.'].astype(str)\n",
    "xmr_df['Vol.'] = xmr_df['Vol.'].replace({'nan': np.nan, '': np.nan})\n",
    "xmr_df.rename(columns={\"Vol.\":\"Vol.[K]\"}, inplace=True)\n",
    "#xmr_df['Vol.[K]'] = xmr_df['Vol.[K]'].map(lambda x:x.replace('K',''))\n",
    "#xmr_df['Vol.[K]'] = xmr_df['Vol.[K]'].map(lambda x: float(x))\n",
    "xmr_df['Vol.[K]'] = xmr_df['Vol.[K]'].str.replace('K', '', regex=False).astype(float)\n",
    "xmr_df['Vol.[K]'] = xmr_df['Vol.[K]'].fillna(xmr_df['Vol.[K]'].rolling(window=10, min_periods=1).mean())\n"
   ]
  },
  {
   "cell_type": "code",
   "execution_count": 21,
   "metadata": {},
   "outputs": [
    {
     "name": "stdout",
     "output_type": "stream",
     "text": [
      "           Date  Price   Open   High    Low   Vol.[K] Change %\n",
      "1341 2020-07-10  60.03  59.75  60.03  58.72  4.505556    2.23%\n"
     ]
    }
   ],
   "source": [
    "print(xmr_df[xmr_df['Date']== pd.to_datetime('2020-07-10')])"
   ]
  },
  {
   "cell_type": "code",
   "execution_count": 22,
   "metadata": {},
   "outputs": [
    {
     "data": {
      "text/plain": [
       "Date        datetime64[ns]\n",
       "Price              float64\n",
       "Open               float64\n",
       "High               float64\n",
       "Low                float64\n",
       "Vol.[K]            float64\n",
       "Change %            object\n",
       "dtype: object"
      ]
     },
     "execution_count": 22,
     "metadata": {},
     "output_type": "execute_result"
    }
   ],
   "source": [
    "xmr_df.dtypes"
   ]
  },
  {
   "cell_type": "code",
   "execution_count": 23,
   "metadata": {},
   "outputs": [
    {
     "data": {
      "text/plain": [
       "Date        datetime64[ns]\n",
       "Price              float64\n",
       "Open               float64\n",
       "High               float64\n",
       "Low                float64\n",
       "Vol.[K]            float64\n",
       "Change %           float64\n",
       "dtype: object"
      ]
     },
     "execution_count": 23,
     "metadata": {},
     "output_type": "execute_result"
    }
   ],
   "source": [
    "xmr_df['Change %'] = xmr_df['Change %'].map(lambda x:x.replace('%',''))\n",
    "xmr_df['Change %'] = xmr_df['Change %'].map(lambda x: float(x))\n",
    "xmr_df.dtypes"
   ]
  },
  {
   "cell_type": "code",
   "execution_count": 24,
   "metadata": {},
   "outputs": [
    {
     "data": {
      "text/html": [
       "<div>\n",
       "<style scoped>\n",
       "    .dataframe tbody tr th:only-of-type {\n",
       "        vertical-align: middle;\n",
       "    }\n",
       "\n",
       "    .dataframe tbody tr th {\n",
       "        vertical-align: top;\n",
       "    }\n",
       "\n",
       "    .dataframe thead th {\n",
       "        text-align: right;\n",
       "    }\n",
       "</style>\n",
       "<table border=\"1\" class=\"dataframe\">\n",
       "  <thead>\n",
       "    <tr style=\"text-align: right;\">\n",
       "      <th></th>\n",
       "      <th>Date</th>\n",
       "      <th>Price</th>\n",
       "      <th>Open</th>\n",
       "      <th>High</th>\n",
       "      <th>Low</th>\n",
       "      <th>Vol.[K]</th>\n",
       "      <th>Change %</th>\n",
       "    </tr>\n",
       "  </thead>\n",
       "  <tbody>\n",
       "    <tr>\n",
       "      <th>0</th>\n",
       "      <td>2024-03-12</td>\n",
       "      <td>133.29</td>\n",
       "      <td>132.67</td>\n",
       "      <td>134.41</td>\n",
       "      <td>130.11</td>\n",
       "      <td>1.28</td>\n",
       "      <td>0.45</td>\n",
       "    </tr>\n",
       "    <tr>\n",
       "      <th>1</th>\n",
       "      <td>2024-03-11</td>\n",
       "      <td>132.69</td>\n",
       "      <td>133.76</td>\n",
       "      <td>134.38</td>\n",
       "      <td>130.06</td>\n",
       "      <td>5.36</td>\n",
       "      <td>-0.80</td>\n",
       "    </tr>\n",
       "    <tr>\n",
       "      <th>2</th>\n",
       "      <td>2024-03-10</td>\n",
       "      <td>133.76</td>\n",
       "      <td>131.40</td>\n",
       "      <td>135.65</td>\n",
       "      <td>130.26</td>\n",
       "      <td>2.22</td>\n",
       "      <td>1.80</td>\n",
       "    </tr>\n",
       "    <tr>\n",
       "      <th>3</th>\n",
       "      <td>2024-03-09</td>\n",
       "      <td>131.40</td>\n",
       "      <td>134.70</td>\n",
       "      <td>136.09</td>\n",
       "      <td>131.33</td>\n",
       "      <td>2.57</td>\n",
       "      <td>-2.45</td>\n",
       "    </tr>\n",
       "    <tr>\n",
       "      <th>4</th>\n",
       "      <td>2024-03-08</td>\n",
       "      <td>134.70</td>\n",
       "      <td>131.74</td>\n",
       "      <td>138.47</td>\n",
       "      <td>130.46</td>\n",
       "      <td>4.54</td>\n",
       "      <td>2.25</td>\n",
       "    </tr>\n",
       "  </tbody>\n",
       "</table>\n",
       "</div>"
      ],
      "text/plain": [
       "        Date   Price    Open    High     Low  Vol.[K]  Change %\n",
       "0 2024-03-12  133.29  132.67  134.41  130.11     1.28      0.45\n",
       "1 2024-03-11  132.69  133.76  134.38  130.06     5.36     -0.80\n",
       "2 2024-03-10  133.76  131.40  135.65  130.26     2.22      1.80\n",
       "3 2024-03-09  131.40  134.70  136.09  131.33     2.57     -2.45\n",
       "4 2024-03-08  134.70  131.74  138.47  130.46     4.54      2.25"
      ]
     },
     "execution_count": 24,
     "metadata": {},
     "output_type": "execute_result"
    }
   ],
   "source": [
    "xmr_df.head()"
   ]
  },
  {
   "cell_type": "code",
   "execution_count": 25,
   "metadata": {},
   "outputs": [
    {
     "data": {
      "text/plain": [
       "Date        22\n",
       "Price       22\n",
       "Open        22\n",
       "High        22\n",
       "Low         22\n",
       "Vol.[K]     22\n",
       "Change %    22\n",
       "dtype: int64"
      ]
     },
     "execution_count": 25,
     "metadata": {},
     "output_type": "execute_result"
    }
   ],
   "source": [
    "xmr_df[xmr_df['Price'] == -1].count()"
   ]
  },
  {
   "cell_type": "markdown",
   "metadata": {},
   "source": [
    "Also for XMR data, there are 22 days where the Price value needs to be managed: it is possible to impute this value with the rolling mean of the last 10 days."
   ]
  },
  {
   "cell_type": "code",
   "execution_count": 26,
   "metadata": {},
   "outputs": [],
   "source": [
    "xmr_df['rolling_mean'] = xmr_df['Price'].rolling(window=10, min_periods=1).mean()\n",
    "xmr_df.loc[xmr_df['Price'] == -1, 'Price'] = xmr_df.loc[xmr_df['Price'] == -1, 'rolling_mean']\n",
    "xmr_df.drop(columns=['rolling_mean'], inplace=True)"
   ]
  },
  {
   "cell_type": "code",
   "execution_count": 27,
   "metadata": {},
   "outputs": [
    {
     "data": {
      "text/plain": [
       "Date        0\n",
       "Price       0\n",
       "Open        0\n",
       "High        0\n",
       "Low         0\n",
       "Vol.[K]     0\n",
       "Change %    0\n",
       "dtype: int64"
      ]
     },
     "execution_count": 27,
     "metadata": {},
     "output_type": "execute_result"
    }
   ],
   "source": [
    "xmr_df[xmr_df['Price'] == -1].count()"
   ]
  },
  {
   "cell_type": "markdown",
   "metadata": {},
   "source": [
    "## Monero trend"
   ]
  },
  {
   "cell_type": "code",
   "execution_count": 28,
   "metadata": {},
   "outputs": [
    {
     "data": {
      "text/html": [
       "<div>\n",
       "<style scoped>\n",
       "    .dataframe tbody tr th:only-of-type {\n",
       "        vertical-align: middle;\n",
       "    }\n",
       "\n",
       "    .dataframe tbody tr th {\n",
       "        vertical-align: top;\n",
       "    }\n",
       "\n",
       "    .dataframe thead th {\n",
       "        text-align: right;\n",
       "    }\n",
       "</style>\n",
       "<table border=\"1\" class=\"dataframe\">\n",
       "  <thead>\n",
       "    <tr style=\"text-align: right;\">\n",
       "      <th></th>\n",
       "      <th>Settimana</th>\n",
       "      <th>Monero_interesse</th>\n",
       "    </tr>\n",
       "  </thead>\n",
       "  <tbody>\n",
       "    <tr>\n",
       "      <th>0</th>\n",
       "      <td>2019-03-17</td>\n",
       "      <td>26</td>\n",
       "    </tr>\n",
       "    <tr>\n",
       "      <th>1</th>\n",
       "      <td>2019-03-24</td>\n",
       "      <td>23</td>\n",
       "    </tr>\n",
       "    <tr>\n",
       "      <th>2</th>\n",
       "      <td>2019-03-31</td>\n",
       "      <td>28</td>\n",
       "    </tr>\n",
       "    <tr>\n",
       "      <th>3</th>\n",
       "      <td>2019-04-07</td>\n",
       "      <td>25</td>\n",
       "    </tr>\n",
       "    <tr>\n",
       "      <th>4</th>\n",
       "      <td>2019-04-14</td>\n",
       "      <td>23</td>\n",
       "    </tr>\n",
       "  </tbody>\n",
       "</table>\n",
       "</div>"
      ],
      "text/plain": [
       "    Settimana  Monero_interesse\n",
       "0  2019-03-17                26\n",
       "1  2019-03-24                23\n",
       "2  2019-03-31                28\n",
       "3  2019-04-07                25\n",
       "4  2019-04-14                23"
      ]
     },
     "execution_count": 28,
     "metadata": {},
     "output_type": "execute_result"
    }
   ],
   "source": [
    "xmr_trend_df = pd.read_csv(xmr_trend)\n",
    "xmr_trend_df.head()"
   ]
  },
  {
   "cell_type": "code",
   "execution_count": 29,
   "metadata": {},
   "outputs": [
    {
     "name": "stdout",
     "output_type": "stream",
     "text": [
      "<class 'pandas.core.frame.DataFrame'>\n",
      "RangeIndex: 260 entries, 0 to 259\n",
      "Data columns (total 2 columns):\n",
      " #   Column            Non-Null Count  Dtype \n",
      "---  ------            --------------  ----- \n",
      " 0   Settimana         260 non-null    object\n",
      " 1   Monero_interesse  260 non-null    int64 \n",
      "dtypes: int64(1), object(1)\n",
      "memory usage: 4.2+ KB\n"
     ]
    }
   ],
   "source": [
    "xmr_trend_df.info()"
   ]
  },
  {
   "cell_type": "code",
   "execution_count": 30,
   "metadata": {},
   "outputs": [
    {
     "data": {
      "text/plain": [
       "Settimana           260\n",
       "Monero_interesse    260\n",
       "dtype: int64"
      ]
     },
     "execution_count": 30,
     "metadata": {},
     "output_type": "execute_result"
    }
   ],
   "source": [
    "xmr_trend_df.count()"
   ]
  },
  {
   "cell_type": "code",
   "execution_count": 31,
   "metadata": {},
   "outputs": [
    {
     "name": "stdout",
     "output_type": "stream",
     "text": [
      "<class 'pandas.core.frame.DataFrame'>\n",
      "RangeIndex: 260 entries, 0 to 259\n",
      "Data columns (total 2 columns):\n",
      " #   Column              Non-Null Count  Dtype \n",
      "---  ------              --------------  ----- \n",
      " 0   Week                260 non-null    object\n",
      " 1   Google_trend_index  260 non-null    int64 \n",
      "dtypes: int64(1), object(1)\n",
      "memory usage: 4.2+ KB\n"
     ]
    }
   ],
   "source": [
    "xmr_trend_df.rename(columns={\"Settimana\":\"Week\", \"Monero_interesse\":\"Google_trend_index\"}, inplace=True)\n",
    "xmr_trend_df.info()"
   ]
  },
  {
   "cell_type": "markdown",
   "metadata": {},
   "source": [
    "## Conclusioni\n",
    "\n",
    "I dataset relativi ai prezzi di entrambe le criptovalute hanno delle strutture simili, che condividono le analoghe criticità:\n",
    "- ci sono alcuni valori della colonna Prezzi pari a -1, essendo un valore che di fatto non restituisce un'informazione valida per le analisi esso è stato sostituito con la media mobile del prezzo delle ultime 10 osservazioni;\n",
    "- è stato realizzato un preprocessing simile per entrambi i dataset, trattando anche delle colonne non utili ai fini delle richieste progettuali, ma comunque trattate per poter salvare il dato elaborato all'interno del data catalog di Glue, al fine di renderli disponibili per altri servizi e comunque fonte d'informazioni da cui trarre ulteriori insights.\n",
    "\n",
    "Per quanto riguarda i dataset dei trend non c'è molto da dire se non normalizzare i nomi delle colonne."
   ]
  },
  {
   "cell_type": "markdown",
   "metadata": {},
   "source": [
    "Di seguito si riportano dei metodi che possono essere usati nei job Glue per trattare il dataset, viste le evidenze emerse in quest'analisi preliminare del dataset."
   ]
  },
  {
   "cell_type": "code",
   "execution_count": 32,
   "metadata": {},
   "outputs": [],
   "source": [
    "def price_substitution(df):\n",
    "    df['rolling_mean'] = df['Price'].rolling(window=10, min_periods=1).mean()\n",
    "    df.loc[df['Price'] == -1, 'Price'] = df.loc[df['Price'] == -1, 'rolling_mean']\n",
    "    df.drop(columns=['rolling_mean'], inplace=True)\n",
    "    \n",
    "    return df\n",
    "\n",
    "def price_dataset_preprocessing(price_dataset_file:str):\n",
    "    #import data in Pandas Dataframe\n",
    "    df = pd.read_csv(price_dataset_file, parse_dates=['Date'], thousands=',')\n",
    "\n",
    "    ###### Vol. column preprocessing######################################\n",
    "    \n",
    "    #string conversion and NaN replace\n",
    "    df['Vol.'] = df['Vol.'].astype(str).replace({'nan': np.nan, '': np.nan})\n",
    "    df.rename(columns={\"Vol.\":\"Vol.[K]\"}, inplace=True)\n",
    "    #float conversion\n",
    "    df['Vol.[K]'] = df['Vol.[K]'].str.replace('K', '', regex=False).astype(float)\n",
    "    #nan values are replaced with the rolling mean of the last 10 observations\n",
    "    df['Vol.[K]'] = df['Vol.[K]'].fillna(df['Vol.[K]'].rolling(window=10, min_periods=1).mean())\n",
    "\n",
    "    ######## Change % col. preprocessing ##########################\n",
    "    df['Change %'] = df['Change %'].map(lambda x:x.replace('%',''))\n",
    "    df['Change %'] = df['Change %'].map(lambda x: float(x))\n",
    "\n",
    "    return df\n",
    "\n",
    "def label_normalizer(trend_dataset_file:str):\n",
    "    df = pd.read_csv(trend_dataset_file, parse_dates=['Settimana'])\n",
    "    columns = df.columns\n",
    "    df.rename(columns={columns[0]:\"Week\", columns[1]:\"Google_trend_index\"}, inplace=True)\n",
    "    return df"
   ]
  }
 ],
 "metadata": {
  "kernelspec": {
   "display_name": ".venv",
   "language": "python",
   "name": "python3"
  },
  "language_info": {
   "codemirror_mode": {
    "name": "ipython",
    "version": 3
   },
   "file_extension": ".py",
   "mimetype": "text/x-python",
   "name": "python",
   "nbconvert_exporter": "python",
   "pygments_lexer": "ipython3",
   "version": "3.12.2"
  }
 },
 "nbformat": 4,
 "nbformat_minor": 2
}
